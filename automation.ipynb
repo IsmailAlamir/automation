{
 "cells": [
  {
   "cell_type": "code",
   "execution_count": null,
   "metadata": {},
   "outputs": [],
   "source": []
  }
 ],
 "metadata": {
  "kernelspec": {
   "display_name": "Python 3.9.5 64-bit ('3.9.5')",
   "language": "python",
   "name": "python3"
  },
  "language_info": {
   "name": "python",
   "version": "3.9.5"
  },
  "orig_nbformat": 4,
  "vscode": {
   "interpreter": {
    "hash": "55ae297bee40ca6ec41acdb15de966c9ba53ffa5cd350f79792eda67c04d5851"
   }
  }
 },
 "nbformat": 4,
 "nbformat_minor": 2
}
